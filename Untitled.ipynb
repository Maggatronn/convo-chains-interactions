{
 "cells": [
  {
   "cell_type": "code",
   "execution_count": 1,
   "metadata": {},
   "outputs": [],
   "source": [
    "\n",
    "import json\n",
    "import pandas as pd\n",
    "\n",
    "data = pd.read_json(\"./lvn_collection-114_allsnippets_emb+umap.json\")"
   ]
  },
  {
   "cell_type": "code",
   "execution_count": null,
   "metadata": {},
   "outputs": [],
   "source": []
  },
  {
   "cell_type": "code",
   "execution_count": 2,
   "metadata": {},
   "outputs": [],
   "source": [
    "import langdetect "
   ]
  },
  {
   "cell_type": "code",
   "execution_count": 3,
   "metadata": {},
   "outputs": [
    {
     "data": {
      "text/plain": [
       "'en'"
      ]
     },
     "execution_count": 3,
     "metadata": {},
     "output_type": "execute_result"
    }
   ],
   "source": [
    "langdetect.detect(\"hi there\")"
   ]
  },
  {
   "cell_type": "code",
   "execution_count": null,
   "metadata": {},
   "outputs": [],
   "source": []
  },
  {
   "cell_type": "code",
   "execution_count": 6,
   "metadata": {},
   "outputs": [],
   "source": [
    "def translate(value, leftMin, leftMax, rightMin, rightMax):\n",
    "    # Figure out how 'wide' each range is\n",
    "    leftSpan = leftMax - leftMin\n",
    "    rightSpan = rightMax - rightMin\n",
    "\n",
    "    # Convert the left range into a 0-1 range (float)\n",
    "    valueScaled = float(value - leftMin) / float(leftSpan)\n",
    "\n",
    "    # Convert the 0-1 range into a value in the right range.\n",
    "    return rightMin + (valueScaled * rightSpan)"
   ]
  },
  {
   "cell_type": "code",
   "execution_count": 7,
   "metadata": {},
   "outputs": [
    {
     "data": {
      "text/html": [
       "<div>\n",
       "<style scoped>\n",
       "    .dataframe tbody tr th:only-of-type {\n",
       "        vertical-align: middle;\n",
       "    }\n",
       "\n",
       "    .dataframe tbody tr th {\n",
       "        vertical-align: top;\n",
       "    }\n",
       "\n",
       "    .dataframe thead th {\n",
       "        text-align: right;\n",
       "    }\n",
       "</style>\n",
       "<table border=\"1\" class=\"dataframe\">\n",
       "  <thead>\n",
       "    <tr style=\"text-align: right;\">\n",
       "      <th></th>\n",
       "      <th>conversation_id</th>\n",
       "      <th>index_in_conversation</th>\n",
       "      <th>speaker_id</th>\n",
       "      <th>speaker_name</th>\n",
       "      <th>transcript</th>\n",
       "      <th>d0</th>\n",
       "      <th>d1</th>\n",
       "      <th>textlen</th>\n",
       "    </tr>\n",
       "  </thead>\n",
       "  <tbody>\n",
       "    <tr>\n",
       "      <th>0</th>\n",
       "      <td>1378</td>\n",
       "      <td>0</td>\n",
       "      <td>32682</td>\n",
       "      <td>Ceasar</td>\n",
       "      <td>And this one to record, so we have two things ...</td>\n",
       "      <td>3.229180</td>\n",
       "      <td>6.512916</td>\n",
       "      <td>96</td>\n",
       "    </tr>\n",
       "    <tr>\n",
       "      <th>1</th>\n",
       "      <td>1378</td>\n",
       "      <td>1</td>\n",
       "      <td>32682</td>\n",
       "      <td>Ceasar</td>\n",
       "      <td>The way we're going to do it, we're inviting y...</td>\n",
       "      <td>2.387059</td>\n",
       "      <td>5.895148</td>\n",
       "      <td>114</td>\n",
       "    </tr>\n",
       "    <tr>\n",
       "      <th>2</th>\n",
       "      <td>1378</td>\n",
       "      <td>2</td>\n",
       "      <td>32682</td>\n",
       "      <td>Ceasar</td>\n",
       "      <td>These conversations, they will be uploaded int...</td>\n",
       "      <td>4.451924</td>\n",
       "      <td>6.907332</td>\n",
       "      <td>169</td>\n",
       "    </tr>\n",
       "    <tr>\n",
       "      <th>3</th>\n",
       "      <td>1378</td>\n",
       "      <td>3</td>\n",
       "      <td>32682</td>\n",
       "      <td>Ceasar</td>\n",
       "      <td>The next piece I want to go through kind of re...</td>\n",
       "      <td>3.852970</td>\n",
       "      <td>6.643561</td>\n",
       "      <td>162</td>\n",
       "    </tr>\n",
       "    <tr>\n",
       "      <th>4</th>\n",
       "      <td>1378</td>\n",
       "      <td>4</td>\n",
       "      <td>32682</td>\n",
       "      <td>Ceasar</td>\n",
       "      <td>Great. I'm going to just keep going. I'm not g...</td>\n",
       "      <td>4.684629</td>\n",
       "      <td>6.975205</td>\n",
       "      <td>99</td>\n",
       "    </tr>\n",
       "  </tbody>\n",
       "</table>\n",
       "</div>"
      ],
      "text/plain": [
       "   conversation_id  index_in_conversation  speaker_id speaker_name   \n",
       "0             1378                      0       32682       Ceasar  \\\n",
       "1             1378                      1       32682       Ceasar   \n",
       "2             1378                      2       32682       Ceasar   \n",
       "3             1378                      3       32682       Ceasar   \n",
       "4             1378                      4       32682       Ceasar   \n",
       "\n",
       "                                          transcript        d0        d1   \n",
       "0  And this one to record, so we have two things ...  3.229180  6.512916  \\\n",
       "1  The way we're going to do it, we're inviting y...  2.387059  5.895148   \n",
       "2  These conversations, they will be uploaded int...  4.451924  6.907332   \n",
       "3  The next piece I want to go through kind of re...  3.852970  6.643561   \n",
       "4  Great. I'm going to just keep going. I'm not g...  4.684629  6.975205   \n",
       "\n",
       "   textlen  \n",
       "0       96  \n",
       "1      114  \n",
       "2      169  \n",
       "3      162  \n",
       "4       99  "
      ]
     },
     "execution_count": 7,
     "metadata": {},
     "output_type": "execute_result"
    }
   ],
   "source": [
    "data.head()"
   ]
  },
  {
   "cell_type": "code",
   "execution_count": 9,
   "metadata": {},
   "outputs": [
    {
     "name": "stdout",
     "output_type": "stream",
     "text": [
      "{1378: 318, 1379: 142, 1380: 108, 1382: 98, 1403: 230, 1406: 175, 1407: 241, 1412: 123, 1413: 137, 1414: 251, 1434: 202, 1441: 209, 1442: 194, 1446: 199, 1447: 259, 1463: 200, 1464: 76, 1465: 235, 1466: 157, 1478: 92, 1483: 131, 1484: 162, 1489: 133, 1490: 205, 1495: 115, 1496: 154, 1497: 206, 1499: 139, 1503: 88, 1504: 114, 1508: 92, 1509: 158, 1511: 184, 1512: 189, 1521: 264, 1527: 153, 1528: 217, 1529: 155, 1530: 187, 1580: 404, 1623: 210, 1635: 266, 2836: 89, 2837: 165, 2838: 106}\n"
     ]
    }
   ],
   "source": [
    "nodes = []\n",
    "edges = []\n",
    "rootxlist = []\n",
    "rootylist = []\n",
    "convo_list = []\n",
    "convo_index_list = []\n",
    "past_convo = 0\n",
    "\n",
    "\n",
    "convo_lengths = {}\n",
    "for i in range(0, len(data)):\n",
    "    if data[\"conversation_id\"][i] not in convo_lengths.keys():\n",
    "        convo_lengths[data[\"conversation_id\"][i]] = 0\n",
    "    else:\n",
    "        convo_lengths[data[\"conversation_id\"][i]] += 1\n",
    "        \n",
    "print(convo_lengths)    \n",
    "\n",
    "for i in range(0, len(data)):\n",
    "    current_convo = data[\"conversation_id\"][i]\n",
    "    if i == 1:\n",
    "        past_convo = current_convo\n",
    "    current_id = data[\"index_in_conversation\"][i]\n",
    "    x = data[\"d0\"][i]\n",
    "    y = data[\"d1\"][i]\n",
    "    node_id = int((str(current_convo) + \"00\" + str(current_id)))\n",
    "    speaker = data[\"speaker_name\"][i]\n",
    "    words = data[\"transcript\"][i]\n",
    "    if len(words.split(\" \")) > 20:\n",
    "        if past_convo == current_convo:\n",
    "            edges.append({\n",
    "                \"source\": nodes[-1][\"id\"],\n",
    "                \"target\": node_id\n",
    "            })\n",
    "        nodes.append({\n",
    "            \"id\": int(node_id),\n",
    "            \"conversation\": int(current_convo),\n",
    "            \"convo_index\": int(current_id),\n",
    "            \"rootx\": float(translate(x, -14.3, 25, 0, 1200)),\n",
    "            \"rooty\": float(translate(y, -13.4, 21.6, 0, 900)),\n",
    "            \"convo_prop_index\": int(current_id)/convo_lengths[current_convo],\n",
    "            \"speaker\": str(speaker),\n",
    "            \"words\": words\n",
    "        })\n",
    "        convo_index_list.append(current_id)\n",
    "        if current_convo not in convo_list:\n",
    "            convo_list.append(current_convo)\n",
    "        rootxlist.append(x)        \n",
    "        rootylist.append(y)    \n",
    "        past_convo = current_convo\n",
    "\n",
    "master_network_dict = {\n",
    "    'nodes': nodes,\n",
    "    'edges': edges\n",
    "}\n",
    "# print(min(rootxlist), max(rootxlist))\n",
    "# print(min(rootylist), max(rootylist))\n",
    "# print(min(convo_list), max(convo_list))\n",
    "# print(min(convo_index_list), max(convo_index_list))\n",
    "# print(len(convo_list))"
   ]
  },
  {
   "cell_type": "code",
   "execution_count": 10,
   "metadata": {},
   "outputs": [
    {
     "name": "stdout",
     "output_type": "stream",
     "text": [
      "[1378, 1379, 1380, 1382, 1403, 1406, 1407, 1412, 1413, 1414, 1434, 1441, 1442, 1446, 1447, 1463, 1464, 1465, 1466, 1478, 1483, 1484, 1489, 1490, 1495, 1496, 1497, 1499, 1503, 1504, 1508, 1509, 1511, 1512, 1521, 1527, 1528, 1529, 1530, 1580, 1623, 1635, 2836, 2837, 2838]\n"
     ]
    }
   ],
   "source": [
    "print(convo_list)"
   ]
  },
  {
   "cell_type": "code",
   "execution_count": 14,
   "metadata": {},
   "outputs": [],
   "source": [
    "with open('./updated.json', 'w') as f:\n",
    "    json.dump(master_network_dict, f) "
   ]
  },
  {
   "cell_type": "code",
   "execution_count": 12,
   "metadata": {},
   "outputs": [
    {
     "ename": "google_new_transError",
     "evalue": "404 (Not Found) from TTS API. Probable cause: Unknown",
     "output_type": "error",
     "traceback": [
      "\u001b[0;31m---------------------------------------------------------------------------\u001b[0m",
      "\u001b[0;31mHTTPError\u001b[0m                                 Traceback (most recent call last)",
      "\u001b[0;32m/usr/local/lib/python3.7/site-packages/google_trans_new/google_trans_new.py\u001b[0m in \u001b[0;36mtranslate\u001b[0;34m(self, text, lang_tgt, lang_src, pronounce)\u001b[0m\n\u001b[1;32m    188\u001b[0m                         \u001b[0;32mraise\u001b[0m \u001b[0me\u001b[0m\u001b[0;34m\u001b[0m\u001b[0;34m\u001b[0m\u001b[0m\n\u001b[0;32m--> 189\u001b[0;31m             \u001b[0mr\u001b[0m\u001b[0;34m.\u001b[0m\u001b[0mraise_for_status\u001b[0m\u001b[0;34m(\u001b[0m\u001b[0;34m)\u001b[0m\u001b[0;34m\u001b[0m\u001b[0;34m\u001b[0m\u001b[0m\n\u001b[0m\u001b[1;32m    190\u001b[0m         \u001b[0;32mexcept\u001b[0m \u001b[0mrequests\u001b[0m\u001b[0;34m.\u001b[0m\u001b[0mexceptions\u001b[0m\u001b[0;34m.\u001b[0m\u001b[0mConnectTimeout\u001b[0m \u001b[0;32mas\u001b[0m \u001b[0me\u001b[0m\u001b[0;34m:\u001b[0m\u001b[0;34m\u001b[0m\u001b[0;34m\u001b[0m\u001b[0m\n",
      "\u001b[0;32m/usr/local/lib/python3.7/site-packages/requests/models.py\u001b[0m in \u001b[0;36mraise_for_status\u001b[0;34m(self)\u001b[0m\n\u001b[1;32m    940\u001b[0m         \u001b[0;32mif\u001b[0m \u001b[0mhttp_error_msg\u001b[0m\u001b[0;34m:\u001b[0m\u001b[0;34m\u001b[0m\u001b[0;34m\u001b[0m\u001b[0m\n\u001b[0;32m--> 941\u001b[0;31m             \u001b[0;32mraise\u001b[0m \u001b[0mHTTPError\u001b[0m\u001b[0;34m(\u001b[0m\u001b[0mhttp_error_msg\u001b[0m\u001b[0;34m,\u001b[0m \u001b[0mresponse\u001b[0m\u001b[0;34m=\u001b[0m\u001b[0mself\u001b[0m\u001b[0;34m)\u001b[0m\u001b[0;34m\u001b[0m\u001b[0;34m\u001b[0m\u001b[0m\n\u001b[0m\u001b[1;32m    942\u001b[0m \u001b[0;34m\u001b[0m\u001b[0m\n",
      "\u001b[0;31mHTTPError\u001b[0m: 404 Client Error: Not Found for url: https://translate.google.cn/_/TranslateWebserverUi/data/batchexecute",
      "\nDuring handling of the above exception, another exception occurred:\n",
      "\u001b[0;31mgoogle_new_transError\u001b[0m                     Traceback (most recent call last)",
      "\u001b[0;32m<ipython-input-12-e100d6ee6628>\u001b[0m in \u001b[0;36m<module>\u001b[0;34m\u001b[0m\n\u001b[1;32m      1\u001b[0m \u001b[0;32mfrom\u001b[0m \u001b[0mgoogle_trans_new\u001b[0m \u001b[0;32mimport\u001b[0m \u001b[0mgoogle_translator\u001b[0m\u001b[0;34m\u001b[0m\u001b[0;34m\u001b[0m\u001b[0m\n\u001b[1;32m      2\u001b[0m \u001b[0mtranslator\u001b[0m \u001b[0;34m=\u001b[0m \u001b[0mgoogle_translator\u001b[0m\u001b[0;34m(\u001b[0m\u001b[0;34m)\u001b[0m\u001b[0;34m\u001b[0m\u001b[0;34m\u001b[0m\u001b[0m\n\u001b[0;32m----> 3\u001b[0;31m \u001b[0mtranslate_text\u001b[0m \u001b[0;34m=\u001b[0m \u001b[0mtranslator\u001b[0m\u001b[0;34m.\u001b[0m\u001b[0mtranslate\u001b[0m\u001b[0;34m(\u001b[0m\u001b[0;34m'สวัสดีจีน'\u001b[0m\u001b[0;34m,\u001b[0m\u001b[0mlang_tgt\u001b[0m\u001b[0;34m=\u001b[0m\u001b[0;34m'en'\u001b[0m\u001b[0;34m)\u001b[0m\u001b[0;34m\u001b[0m\u001b[0;34m\u001b[0m\u001b[0m\n\u001b[0m\u001b[1;32m      4\u001b[0m \u001b[0mprint\u001b[0m\u001b[0;34m(\u001b[0m\u001b[0mtranslate_text\u001b[0m\u001b[0;34m)\u001b[0m\u001b[0;34m\u001b[0m\u001b[0;34m\u001b[0m\u001b[0m\n\u001b[1;32m      5\u001b[0m \u001b[0;31m#output: Hello china\u001b[0m\u001b[0;34m\u001b[0m\u001b[0;34m\u001b[0m\u001b[0;34m\u001b[0m\u001b[0m\n",
      "\u001b[0;32m/usr/local/lib/python3.7/site-packages/google_trans_new/google_trans_new.py\u001b[0m in \u001b[0;36mtranslate\u001b[0;34m(self, text, lang_tgt, lang_src, pronounce)\u001b[0m\n\u001b[1;32m    192\u001b[0m         \u001b[0;32mexcept\u001b[0m \u001b[0mrequests\u001b[0m\u001b[0;34m.\u001b[0m\u001b[0mexceptions\u001b[0m\u001b[0;34m.\u001b[0m\u001b[0mHTTPError\u001b[0m \u001b[0;32mas\u001b[0m \u001b[0me\u001b[0m\u001b[0;34m:\u001b[0m\u001b[0;34m\u001b[0m\u001b[0;34m\u001b[0m\u001b[0m\n\u001b[1;32m    193\u001b[0m             \u001b[0;31m# Request successful, bad response\u001b[0m\u001b[0;34m\u001b[0m\u001b[0;34m\u001b[0m\u001b[0;34m\u001b[0m\u001b[0m\n\u001b[0;32m--> 194\u001b[0;31m             \u001b[0;32mraise\u001b[0m \u001b[0mgoogle_new_transError\u001b[0m\u001b[0;34m(\u001b[0m\u001b[0mtts\u001b[0m\u001b[0;34m=\u001b[0m\u001b[0mself\u001b[0m\u001b[0;34m,\u001b[0m \u001b[0mresponse\u001b[0m\u001b[0;34m=\u001b[0m\u001b[0mr\u001b[0m\u001b[0;34m)\u001b[0m\u001b[0;34m\u001b[0m\u001b[0;34m\u001b[0m\u001b[0m\n\u001b[0m\u001b[1;32m    195\u001b[0m         \u001b[0;32mexcept\u001b[0m \u001b[0mrequests\u001b[0m\u001b[0;34m.\u001b[0m\u001b[0mexceptions\u001b[0m\u001b[0;34m.\u001b[0m\u001b[0mRequestException\u001b[0m \u001b[0;32mas\u001b[0m \u001b[0me\u001b[0m\u001b[0;34m:\u001b[0m\u001b[0;34m\u001b[0m\u001b[0;34m\u001b[0m\u001b[0m\n\u001b[1;32m    196\u001b[0m             \u001b[0;31m# Request failed\u001b[0m\u001b[0;34m\u001b[0m\u001b[0;34m\u001b[0m\u001b[0;34m\u001b[0m\u001b[0m\n",
      "\u001b[0;31mgoogle_new_transError\u001b[0m: 404 (Not Found) from TTS API. Probable cause: Unknown"
     ]
    }
   ],
   "source": [
    "from google_trans_new import google_translator  \n",
    "translator = google_translator()  \n",
    "translate_text = translator.translate('สวัสดีจีน',lang_tgt='en')  \n",
    "print(translate_text)\n",
    "#output: Hello china"
   ]
  },
  {
   "cell_type": "code",
   "execution_count": null,
   "metadata": {},
   "outputs": [],
   "source": []
  },
  {
   "cell_type": "code",
   "execution_count": 36,
   "metadata": {},
   "outputs": [],
   "source": [
    "mini_dict = {    \n",
    "    \"nodes\": [\n",
    "      {\"id\": 1, \"rootx\": 100, \"rooty\": 100, \"loc\": \"start\"},\n",
    "      {\"id\": 2, \"rootx\": 100, \"rooty\": 100, \"loc\": \"mid\"},\n",
    "      {\"id\": 3, \"rootx\": 200, \"rooty\": 110, \"loc\": \"mid\"},\n",
    "      {\"id\": 4, \"rootx\": 200, \"rooty\": 140, \"loc\": \"mid\"},\n",
    "      {\"id\": 5, \"rootx\": 40, \"rooty\": 300, \"loc\": \"end\"},\n",
    "      {\"id\": 6, \"rootx\": 200, \"rooty\": 200, \"loc\": \"start\"},\n",
    "      {\"id\": 7, \"rootx\": 300, \"rooty\": 300, \"loc\": \"mid\"},\n",
    "      {\"id\": 8, \"rootx\": 300, \"rooty\": 400, \"loc\": \"mid\"},\n",
    "      {\"id\": 9, \"rootx\": 400, \"rooty\": 400, \"loc\": \"mid\"},\n",
    "      {\"id\": 10, \"rootx\": 300, \"rooty\": 400, \"loc\": \"end\"}\n",
    "    ],\n",
    "\n",
    "    \"edges\": [\n",
    "      {\"source\": 1, \"target\": 2},\n",
    "      {\"source\": 2, \"target\": 3},\n",
    "      {\"source\": 3, \"target\": 4},\n",
    "      {\"source\": 4, \"target\": 5},\n",
    "      {\"source\": 6, \"target\": 7},\n",
    "      {\"source\": 7, \"target\": 8},\n",
    "      {\"source\": 8, \"target\": 9},\n",
    "      {\"source\": 9, \"target\": 10}\n",
    "    ]}"
   ]
  },
  {
   "cell_type": "code",
   "execution_count": 37,
   "metadata": {},
   "outputs": [],
   "source": [
    "with open('./baby.json', 'w') as f:\n",
    "    json.dump(mini_dict, f) "
   ]
  },
  {
   "cell_type": "code",
   "execution_count": null,
   "metadata": {},
   "outputs": [],
   "source": []
  }
 ],
 "metadata": {
  "kernelspec": {
   "display_name": "Python 3 (ipykernel)",
   "language": "python",
   "name": "python3"
  },
  "language_info": {
   "codemirror_mode": {
    "name": "ipython",
    "version": 3
   },
   "file_extension": ".py",
   "mimetype": "text/x-python",
   "name": "python",
   "nbconvert_exporter": "python",
   "pygments_lexer": "ipython3",
   "version": "3.10.10"
  }
 },
 "nbformat": 4,
 "nbformat_minor": 4
}

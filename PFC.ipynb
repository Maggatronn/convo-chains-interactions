{
 "cells": [
  {
   "cell_type": "code",
   "execution_count": 1,
   "id": "52b196d3",
   "metadata": {},
   "outputs": [
    {
     "name": "stderr",
     "output_type": "stream",
     "text": [
      "/Library/Frameworks/Python.framework/Versions/3.10/lib/python3.10/site-packages/umap/distances.py:1063: NumbaDeprecationWarning: The 'nopython' keyword argument was not supplied to the 'numba.jit' decorator. The implicit default value for this argument is currently False, but it will be changed to True in Numba 0.59.0. See https://numba.readthedocs.io/en/stable/reference/deprecation.html#deprecation-of-object-mode-fall-back-behaviour-when-using-jit for details.\n",
      "  @numba.jit()\n",
      "/Library/Frameworks/Python.framework/Versions/3.10/lib/python3.10/site-packages/umap/distances.py:1071: NumbaDeprecationWarning: The 'nopython' keyword argument was not supplied to the 'numba.jit' decorator. The implicit default value for this argument is currently False, but it will be changed to True in Numba 0.59.0. See https://numba.readthedocs.io/en/stable/reference/deprecation.html#deprecation-of-object-mode-fall-back-behaviour-when-using-jit for details.\n",
      "  @numba.jit()\n",
      "/Library/Frameworks/Python.framework/Versions/3.10/lib/python3.10/site-packages/umap/distances.py:1086: NumbaDeprecationWarning: The 'nopython' keyword argument was not supplied to the 'numba.jit' decorator. The implicit default value for this argument is currently False, but it will be changed to True in Numba 0.59.0. See https://numba.readthedocs.io/en/stable/reference/deprecation.html#deprecation-of-object-mode-fall-back-behaviour-when-using-jit for details.\n",
      "  @numba.jit()\n",
      "/Library/Frameworks/Python.framework/Versions/3.10/lib/python3.10/site-packages/umap/umap_.py:660: NumbaDeprecationWarning: The 'nopython' keyword argument was not supplied to the 'numba.jit' decorator. The implicit default value for this argument is currently False, but it will be changed to True in Numba 0.59.0. See https://numba.readthedocs.io/en/stable/reference/deprecation.html#deprecation-of-object-mode-fall-back-behaviour-when-using-jit for details.\n",
      "  @numba.jit()\n"
     ]
    }
   ],
   "source": [
    "import os\n",
    "import json\n",
    "import csv\n",
    "import re\n",
    "import pandas as pd\n",
    "import sentence_transformers\n",
    "import umap.umap_ as umap\n",
    "import matplotlib.pyplot as plt\n",
    "import altair as alt\n",
    "import langdetect \n",
    "# import multiprocessing\n"
   ]
  },
  {
   "cell_type": "code",
   "execution_count": 2,
   "id": "06ada68d",
   "metadata": {},
   "outputs": [],
   "source": [
    "model = sentence_transformers.SentenceTransformer('all-mpnet-base-v2', device=\"cpu\")"
   ]
  },
  {
   "cell_type": "code",
   "execution_count": 3,
   "id": "1e1bb5e2",
   "metadata": {},
   "outputs": [
    {
     "data": {
      "text/html": [
       "<div>\n",
       "<style scoped>\n",
       "    .dataframe tbody tr th:only-of-type {\n",
       "        vertical-align: middle;\n",
       "    }\n",
       "\n",
       "    .dataframe tbody tr th {\n",
       "        vertical-align: top;\n",
       "    }\n",
       "\n",
       "    .dataframe thead th {\n",
       "        text-align: right;\n",
       "    }\n",
       "</style>\n",
       "<table border=\"1\" class=\"dataframe\">\n",
       "  <thead>\n",
       "    <tr style=\"text-align: right;\">\n",
       "      <th></th>\n",
       "      <th>conversation</th>\n",
       "      <th>Unnamed: 1</th>\n",
       "      <th>snippet</th>\n",
       "      <th>highlight</th>\n",
       "      <th>highlighter</th>\n",
       "      <th>topic</th>\n",
       "      <th>topic2</th>\n",
       "      <th>notes</th>\n",
       "      <th>story/solution/observatioin</th>\n",
       "      <th>used in report?</th>\n",
       "    </tr>\n",
       "  </thead>\n",
       "  <tbody>\n",
       "    <tr>\n",
       "      <th>0</th>\n",
       "      <td>\\nMadison, WI 160</td>\n",
       "      <td>160.0</td>\n",
       "      <td>It's like yeah, if one person is in this...thi...</td>\n",
       "      <td>https://app.lvn.org/highlight/897699</td>\n",
       "      <td>NaN</td>\n",
       "      <td>Power and Trust</td>\n",
       "      <td>Housing</td>\n",
       "      <td>priority, police and housing</td>\n",
       "      <td>observation</td>\n",
       "      <td>yes</td>\n",
       "    </tr>\n",
       "    <tr>\n",
       "      <th>1</th>\n",
       "      <td>\\nMadison, WI 63</td>\n",
       "      <td>63.0</td>\n",
       "      <td>used to have all my friends talk about how gre...</td>\n",
       "      <td>https://app.lvn.org/highlight/886330</td>\n",
       "      <td>NaN</td>\n",
       "      <td>Police and Racism</td>\n",
       "      <td>NaN</td>\n",
       "      <td>priority, little kid walking by himself gettin...</td>\n",
       "      <td>story</td>\n",
       "      <td>NaN</td>\n",
       "    </tr>\n",
       "    <tr>\n",
       "      <th>2</th>\n",
       "      <td>\\nMadison, WI 99</td>\n",
       "      <td>99.0</td>\n",
       "      <td>So, it was on the news, that a teacher called ...</td>\n",
       "      <td>https://app.lvn.org/highlight/897695</td>\n",
       "      <td>NaN</td>\n",
       "      <td>Police and Youth</td>\n",
       "      <td>Power and Trust</td>\n",
       "      <td>Incident with little girl gettting pushed by p...</td>\n",
       "      <td>story</td>\n",
       "      <td>yes</td>\n",
       "    </tr>\n",
       "    <tr>\n",
       "      <th>3</th>\n",
       "      <td>\\nNancy 2-5-19</td>\n",
       "      <td>71.0</td>\n",
       "      <td>Well, just our everyday kids in high school wh...</td>\n",
       "      <td>https://app.lvn.org/highlights?c=1&amp;page=1&amp;q=bu...</td>\n",
       "      <td>NaN</td>\n",
       "      <td>Police and Youth</td>\n",
       "      <td>Police and Racism</td>\n",
       "      <td>priority</td>\n",
       "      <td>observation</td>\n",
       "      <td>yes</td>\n",
       "    </tr>\n",
       "    <tr>\n",
       "      <th>4</th>\n",
       "      <td>\\nPFC Conversation with Just Dane</td>\n",
       "      <td>NaN</td>\n",
       "      <td>Well, growing up, one of the first values, or ...</td>\n",
       "      <td>https://app.lvn.org/highlight/867425</td>\n",
       "      <td>NaN</td>\n",
       "      <td>Power and Trust</td>\n",
       "      <td>Police and Racism</td>\n",
       "      <td>prioriy</td>\n",
       "      <td>story</td>\n",
       "      <td>yes</td>\n",
       "    </tr>\n",
       "  </tbody>\n",
       "</table>\n",
       "</div>"
      ],
      "text/plain": [
       "                        conversation  Unnamed: 1   \n",
       "0                  \\nMadison, WI 160       160.0  \\\n",
       "1                   \\nMadison, WI 63        63.0   \n",
       "2                   \\nMadison, WI 99        99.0   \n",
       "3                     \\nNancy 2-5-19        71.0   \n",
       "4  \\nPFC Conversation with Just Dane         NaN   \n",
       "\n",
       "                                             snippet   \n",
       "0  It's like yeah, if one person is in this...thi...  \\\n",
       "1  used to have all my friends talk about how gre...   \n",
       "2  So, it was on the news, that a teacher called ...   \n",
       "3  Well, just our everyday kids in high school wh...   \n",
       "4  Well, growing up, one of the first values, or ...   \n",
       "\n",
       "                                           highlight highlighter   \n",
       "0               https://app.lvn.org/highlight/897699         NaN  \\\n",
       "1               https://app.lvn.org/highlight/886330         NaN   \n",
       "2               https://app.lvn.org/highlight/897695         NaN   \n",
       "3  https://app.lvn.org/highlights?c=1&page=1&q=bu...         NaN   \n",
       "4               https://app.lvn.org/highlight/867425         NaN   \n",
       "\n",
       "               topic             topic2   \n",
       "0    Power and Trust            Housing  \\\n",
       "1  Police and Racism                NaN   \n",
       "2   Police and Youth    Power and Trust   \n",
       "3   Police and Youth  Police and Racism   \n",
       "4    Power and Trust  Police and Racism   \n",
       "\n",
       "                                               notes   \n",
       "0                       priority, police and housing  \\\n",
       "1  priority, little kid walking by himself gettin...   \n",
       "2  Incident with little girl gettting pushed by p...   \n",
       "3                                           priority   \n",
       "4                                            prioriy   \n",
       "\n",
       "  story/solution/observatioin used in report?  \n",
       "0                 observation             yes  \n",
       "1                       story             NaN  \n",
       "2                       story             yes  \n",
       "3                 observation             yes  \n",
       "4                       story             yes  "
      ]
     },
     "execution_count": 3,
     "metadata": {},
     "output_type": "execute_result"
    }
   ],
   "source": [
    "PFC = pd.read_csv('./PFC.csv')\n",
    "PFC.head()\n"
   ]
  },
  {
   "cell_type": "code",
   "execution_count": 10,
   "id": "7cc341ac",
   "metadata": {},
   "outputs": [
    {
     "name": "stdout",
     "output_type": "stream",
     "text": [
      "136\n"
     ]
    }
   ],
   "source": [
    "snippet_ids = []\n",
    "proportional_local = []\n",
    "conversation_list = []\n",
    "word_list = []\n",
    "collection = []\n",
    "\n",
    "print(len(PFC))\n",
    "for i in range(0, len(PFC)):\n",
    "    words = PFC[\"snippet\"][i]\n",
    "    highlight_id = str(PFC[\"highlight\"][i]).split(\"/\")[-1]\n",
    "    conversation = PFC[\"conversation\"][i]\n",
    "    snippet_ids.append(highlight_id)\n",
    "    word_list.append(words)        \n",
    "    conversation_list.append(conversation)"
   ]
  },
  {
   "cell_type": "code",
   "execution_count": 13,
   "id": "024a53cd",
   "metadata": {},
   "outputs": [
    {
     "data": {
      "text/plain": [
       "(136, 136, 136)"
      ]
     },
     "execution_count": 13,
     "metadata": {},
     "output_type": "execute_result"
    }
   ],
   "source": [
    "len(snippet_ids), len(word_list), len(conversation_list)"
   ]
  },
  {
   "cell_type": "code",
   "execution_count": 14,
   "id": "0a21247f",
   "metadata": {},
   "outputs": [
    {
     "data": {
      "application/vnd.jupyter.widget-view+json": {
       "model_id": "7b20e0b4258b43e8a09440a2963bd2a1",
       "version_major": 2,
       "version_minor": 0
      },
      "text/plain": [
       "Batches:   0%|          | 0/5 [00:00<?, ?it/s]"
      ]
     },
     "metadata": {},
     "output_type": "display_data"
    },
    {
     "data": {
      "text/plain": [
       "array([[-0.00117862,  0.0703243 ,  0.02006223, ...,  0.00983872,\n",
       "         0.02781419,  0.02130772],\n",
       "       [ 0.01639344,  0.06621193,  0.01331168, ...,  0.03725008,\n",
       "         0.04238164, -0.01484849],\n",
       "       [ 0.04410992,  0.02163805,  0.01931418, ...,  0.03562592,\n",
       "        -0.02445206,  0.00630008],\n",
       "       ...,\n",
       "       [ 0.06568735,  0.00518683,  0.00286661, ..., -0.00373769,\n",
       "         0.04800443,  0.01033725],\n",
       "       [ 0.06935258,  0.02793061, -0.00202731, ..., -0.02456606,\n",
       "         0.05361386,  0.01753427],\n",
       "       [ 0.03005826,  0.10604487,  0.00355017, ..., -0.01215767,\n",
       "         0.00800674,  0.00903963]], dtype=float32)"
      ]
     },
     "execution_count": 14,
     "metadata": {},
     "output_type": "execute_result"
    }
   ],
   "source": [
    "conv_ids, texts = zip(*((snippet_ids[i], word_list[i]) for i in range(0, len(word_list))))\n",
    "embeddings = model.encode(texts,show_progress_bar=True)\n",
    "embeddings"
   ]
  },
  {
   "cell_type": "code",
   "execution_count": 15,
   "id": "c9a90104",
   "metadata": {},
   "outputs": [
    {
     "data": {
      "text/plain": [
       "136"
      ]
     },
     "execution_count": 15,
     "metadata": {},
     "output_type": "execute_result"
    }
   ],
   "source": [
    "len(embeddings)"
   ]
  },
  {
   "cell_type": "code",
   "execution_count": 17,
   "id": "98be6c91",
   "metadata": {},
   "outputs": [
    {
     "data": {
      "text/plain": [
       "(136, 2)"
      ]
     },
     "execution_count": 17,
     "metadata": {},
     "output_type": "execute_result"
    }
   ],
   "source": [
    "reducer = umap.UMAP(n_components=2)\n",
    "embedding_reduce = reducer.fit_transform(embeddings)\n",
    "embedding_reduce.shape"
   ]
  },
  {
   "cell_type": "code",
   "execution_count": 18,
   "id": "f41f3f66",
   "metadata": {},
   "outputs": [],
   "source": []
  },
  {
   "cell_type": "code",
   "execution_count": 40,
   "id": "868ee57b",
   "metadata": {},
   "outputs": [],
   "source": [
    "nodes = []\n",
    "edges = []\n",
    "rootxlist = []\n",
    "rootylist = []\n",
    "convo_list = []\n",
    "convo_index_list = []\n",
    "past_convo = 0\n",
    "for i in range(0, len(word_list)):\n",
    "    current_convo = conversation_list[i]\n",
    "    current_id = str(snippet_ids[i])\n",
    "    x = embedding_reduce[i][0]\n",
    "    y = embedding_reduce[i][1]\n",
    "    word = word_list[i]\n",
    "    if \"yes\" in str(PFC[\"used in report?\"][i]):\n",
    "        used = True\n",
    "    else:\n",
    "        used = False\n",
    "    if type(PFC[\"topic\"][i]) == str: \n",
    "        topic1 = PFC[\"topic\"][i]\n",
    "    else:\n",
    "        topic1 = 'none'\n",
    "    if type(PFC[\"topic2\"][i]) == str: \n",
    "        topic2 = PFC[\"topic2\"][i]    \n",
    "    else:\n",
    "        topic2 = 'none'\n",
    "    if \"priority\" in str(PFC[\"notes\"][i]):\n",
    "        priority = True\n",
    "    else: \n",
    "        priority = False\n",
    "    if type(PFC[\"notes\"][i]) == str:\n",
    "        notes = PFC[\"notes\"][i]\n",
    "    else:\n",
    "        notes = \"none\"\n",
    "    if type(PFC[\"story/solution/observatioin\"][i]) == str: \n",
    "        story = PFC[\"story/solution/observatioin\"][i]\n",
    "    else:\n",
    "        story = \"none\"\n",
    "\n",
    "    nodes.append({\n",
    "        \"words\": word,\n",
    "        \"rootx\": float(translate(x, 5.8014817, 11, 0, 1200)),\n",
    "        \"rooty\": float(translate(y, -0.2, 6, 0, 800)),\n",
    "        \"topic1\": topic1,\n",
    "        \"topic2\": topic2,\n",
    "        \"used\": used,\n",
    "        \"story\": story,\n",
    "        \"priority\": priority,\n",
    "        \"notes\": notes\n",
    "    })\n",
    "\n",
    "network = {\"nodes\": nodes}"
   ]
  },
  {
   "cell_type": "code",
   "execution_count": 26,
   "id": "eaa3379f",
   "metadata": {},
   "outputs": [],
   "source": [
    "def translate(value, leftMin, leftMax, rightMin, rightMax):\n",
    "    # Figure out how 'wide' each range is\n",
    "    leftSpan = leftMax - leftMin\n",
    "    rightSpan = rightMax - rightMin\n",
    "\n",
    "    # Convert the left range into a 0-1 range (float)\n",
    "    valueScaled = float(value - leftMin) / float(leftSpan)\n",
    "\n",
    "    # Convert the 0-1 range into a value in the right range.\n",
    "    return rightMin + (valueScaled * rightSpan)"
   ]
  },
  {
   "cell_type": "code",
   "execution_count": 41,
   "id": "ed55deda",
   "metadata": {},
   "outputs": [],
   "source": [
    "\n",
    "with open('./PFC_embed.json', 'w') as f:\n",
    "    json.dump(network, f) "
   ]
  },
  {
   "cell_type": "code",
   "execution_count": null,
   "id": "1db4166d",
   "metadata": {},
   "outputs": [],
   "source": []
  }
 ],
 "metadata": {
  "kernelspec": {
   "display_name": "Python 3 (ipykernel)",
   "language": "python",
   "name": "python3"
  },
  "language_info": {
   "codemirror_mode": {
    "name": "ipython",
    "version": 3
   },
   "file_extension": ".py",
   "mimetype": "text/x-python",
   "name": "python",
   "nbconvert_exporter": "python",
   "pygments_lexer": "ipython3",
   "version": "3.10.10"
  }
 },
 "nbformat": 4,
 "nbformat_minor": 5
}
